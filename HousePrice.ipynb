{
 "cells": [
  {
   "cell_type": "markdown",
   "id": "6073e8b9-f1e0-47ce-acee-549c3e904514",
   "metadata": {},
   "source": [
    "# House Prices Prediction Using Random Forests Decision Tree"
   ]
  },
  {
   "cell_type": "markdown",
   "id": "2bbec474-9ed2-4fec-9367-5ccc248e90b9",
   "metadata": {},
   "source": [
    "This notebook walks you through how to use Random Forest Decision Tree to make prediction on the house price with the dataset provided in the competition.\n",
    "The algorithm is roughly like below:"
   ]
  },
  {
   "cell_type": "raw",
   "id": "41c2bc71-2f9e-4780-be92-962cd6cea6e1",
   "metadata": {},
   "source": [
    "1. import libraries needed\n",
    "\n",
    "2. read data from files\n",
    "\n",
    "3. separate features and target for the data\n",
    "\n",
    "4. preprocess the features, which include filling missing data and one-hot encoding\n",
    "\n",
    "5. create random forests model, divide the training data into training set and validation set, use training set to train the model and validate the accuracy of the model with validation set\n",
    "\n",
    "6. Generate prediction of the test data with the model"
   ]
  },
  {
   "cell_type": "markdown",
   "id": "6e845c66-2174-40b4-b0aa-42f541437744",
   "metadata": {},
   "source": [
    "Decision Forests are a family of tree-based models including Random Forests and Gradient Boosted Trees. They are the best place to start to work with tabular data, and will often outperform before you begin experimenting with neural networks."
   ]
  },
  {
   "cell_type": "markdown",
   "id": "968b34bf-e4eb-4087-a5bc-c0a50a092538",
   "metadata": {},
   "source": [
    "# 1. Importing necessary libraries"
   ]
  },
  {
   "cell_type": "code",
   "execution_count": 1,
   "id": "26c0022b-7a28-4ec6-bb79-ff6239aaf848",
   "metadata": {},
   "outputs": [],
   "source": [
    "import numpy as np\n",
    "import pandas as pd\n",
    "import matplotlib.pyplot as plt\n",
    "from sklearn.model_selection import train_test_split\n",
    "from sklearn.ensemble import RandomForestRegressor\n",
    "from sklearn.model_selection import train_test_split\n",
    "from sklearn.model_selection import cross_val_score, KFold\n",
    "from sklearn.metrics import r2_score, mean_squared_error\n",
    "from xgboost import XGBRegressor\n",
    "import seaborn as sns\n",
    "pd.set_option('display.max_rows',None)"
   ]
  },
  {
   "cell_type": "markdown",
   "id": "8f5266f0-6634-4ab2-9f47-bc05551455f0",
   "metadata": {},
   "source": [
    "# 2. Read Training data and testing data from file"
   ]
  },
  {
   "cell_type": "code",
   "execution_count": 2,
   "id": "5bfff93b-136f-4bd6-8493-90ef705022ab",
   "metadata": {},
   "outputs": [],
   "source": [
    "df_train = pd.read_csv(\"data/train.csv\")\n",
    "df_test = pd.read_csv(\"data/test.csv\")"
   ]
  },
  {
   "cell_type": "code",
   "execution_count": 3,
   "id": "a6fdcc48-4cf3-414c-b7d6-58d9a195362b",
   "metadata": {},
   "outputs": [
    {
     "name": "stdout",
     "output_type": "stream",
     "text": [
      "df_train shape is (1460, 81)\n",
      "df_test shape is (1459, 80)\n",
      "   Id  MSSubClass MSZoning  LotFrontage  LotArea Street Alley LotShape  \\\n",
      "0   1          60       RL         65.0     8450   Pave   NaN      Reg   \n",
      "1   2          20       RL         80.0     9600   Pave   NaN      Reg   \n",
      "2   3          60       RL         68.0    11250   Pave   NaN      IR1   \n",
      "3   4          70       RL         60.0     9550   Pave   NaN      IR1   \n",
      "4   5          60       RL         84.0    14260   Pave   NaN      IR1   \n",
      "\n",
      "  LandContour Utilities  ... PoolArea PoolQC Fence MiscFeature MiscVal MoSold  \\\n",
      "0         Lvl    AllPub  ...        0    NaN   NaN         NaN       0      2   \n",
      "1         Lvl    AllPub  ...        0    NaN   NaN         NaN       0      5   \n",
      "2         Lvl    AllPub  ...        0    NaN   NaN         NaN       0      9   \n",
      "3         Lvl    AllPub  ...        0    NaN   NaN         NaN       0      2   \n",
      "4         Lvl    AllPub  ...        0    NaN   NaN         NaN       0     12   \n",
      "\n",
      "  YrSold  SaleType  SaleCondition  SalePrice  \n",
      "0   2008        WD         Normal     208500  \n",
      "1   2007        WD         Normal     181500  \n",
      "2   2008        WD         Normal     223500  \n",
      "3   2006        WD        Abnorml     140000  \n",
      "4   2008        WD         Normal     250000  \n",
      "\n",
      "[5 rows x 81 columns]\n"
     ]
    }
   ],
   "source": [
    "print(f\"df_train shape is {df_train.shape}\")\n",
    "print(f\"df_test shape is {df_test.shape}\")\n",
    "print(df_train[:5])"
   ]
  },
  {
   "cell_type": "markdown",
   "id": "085384dc-5875-4ff2-84da-b063d0dc64f2",
   "metadata": {},
   "source": [
    "# 3. Separate target and features from data"
   ]
  },
  {
   "cell_type": "code",
   "execution_count": 4,
   "id": "fc08f7f5-1291-4069-9498-2636daeaabcd",
   "metadata": {},
   "outputs": [],
   "source": [
    "x_train=df_train.drop('SalePrice', axis=1,inplace=False)\n",
    "y_train=df_train['SalePrice']\n",
    "x_test = df_test.copy()\n",
    "test_ids = x_test['Id']"
   ]
  },
  {
   "cell_type": "markdown",
   "id": "e324a790-c8af-40d2-8e61-58d8deae7a1b",
   "metadata": {},
   "source": [
    "# 4. Preprocessing the features"
   ]
  },
  {
   "cell_type": "code",
   "execution_count": 5,
   "id": "080dbeed-25c7-47aa-8520-d55c3ed4fbf4",
   "metadata": {},
   "outputs": [],
   "source": [
    "# Combine for preprocessing\n",
    "all_data = pd.concat([x_train, x_test], axis=0)\n",
    "\n",
    "# Remove unrelated feature \"Id\"\n",
    "all_data.drop('Id',axis=1,inplace=True)\n",
    "\n",
    "#Handle missing values\n",
    "for col in all_data.columns:\n",
    "    if all_data[col].dtype == 'object': #categorical\n",
    "        all_data[col] = all_data[col].fillna('None')\n",
    "    else: # numeric\n",
    "        all_data[col] = all_data[col].fillna(all_data[col].median())\n",
    "\n",
    "# One-hot encode categorical variables\n",
    "all_data = pd.get_dummies(all_data)\n",
    "x_train = all_data.iloc[:len(df_train), :]\n",
    "x_test = all_data.iloc[len(df_train):, :]\n"
   ]
  },
  {
   "cell_type": "markdown",
   "id": "ce4994cd-52ae-47d0-bf31-c66c01339db2",
   "metadata": {},
   "source": [
    "## 5. Random Forest Model"
   ]
  },
  {
   "cell_type": "code",
   "execution_count": 6,
   "id": "715f1d02-01b5-400e-88b7-fb9c90bb10ef",
   "metadata": {},
   "outputs": [
    {
     "name": "stdout",
     "output_type": "stream",
     "text": [
      "Our model's score using cross validation set is 89.46324967259923 with using Random Forest\n"
     ]
    }
   ],
   "source": [
    "rf_model = RandomForestRegressor(n_estimators=300,\n",
    "                                 max_depth=12,\n",
    "                                 n_jobs = -1,\n",
    "                                 random_state=42,\n",
    "                                 oob_score=True,\n",
    "                                 bootstrap=True)\n",
    "\n",
    "x_tr,x_val,y_tr,y_val = train_test_split(x_train, y_train, test_size=0.2,random_state=42)\n",
    "model_rf = rf_model.fit(x_tr,y_tr)\n",
    "print(f\"Our model's score using cross validation set is {model_rf.score(x_val,y_val)*100} with using Random Forest\")"
   ]
  },
  {
   "cell_type": "code",
   "execution_count": 7,
   "id": "04f0f426-1b9e-4fa6-bd3d-575ac9c9a1b2",
   "metadata": {},
   "outputs": [
    {
     "name": "stdout",
     "output_type": "stream",
     "text": [
      "Random Forest CV R^2 scores [0.8884113  0.89827578 0.63663484 0.87623559 0.89295746]\n",
      "Random Forest OOB score: 0.8607\n"
     ]
    }
   ],
   "source": [
    "\n",
    "kf = KFold(n_splits=5, shuffle=True, random_state=42)\n",
    "rf_model.fit(x_train, y_train)\n",
    "rf_train_preds = rf_model.predict(x_train)\n",
    "rf_train_r2 = r2_score(y_train, rf_train_preds)\n",
    "rf_train_rmse = np.sqrt(mean_squared_error(y_train, rf_train_preds))\n",
    "rf_cv_scores = cross_val_score(rf_model, x_train, y_train, cv=kf, scoring='r2')\n",
    "print(f\"Random Forest CV R^2 scores {rf_cv_scores}\")\n",
    "\n",
    "#OOB score\n",
    "print(f\"Random Forest OOB score: {rf_model.oob_score_:.4f}\")"
   ]
  },
  {
   "cell_type": "markdown",
   "id": "08e7a958-d0b8-4cf5-a627-91bf3d525825",
   "metadata": {},
   "source": [
    "# Generate the predictions using the test data"
   ]
  },
  {
   "cell_type": "code",
   "execution_count": 10,
   "id": "696a9970-9449-4023-9326-29552be0d408",
   "metadata": {},
   "outputs": [],
   "source": [
    "predictions = rf_model.predict(x_test)\n",
    "output = pd.DataFrame({'Id':test_ids,\n",
    "                       'SalePrice':predictions})\n",
    "output.to_csv(\"submission.csv\", index=False)"
   ]
  },
  {
   "cell_type": "code",
   "execution_count": null,
   "id": "431e16bc-7ea0-4bc3-bef4-2f7e698e6d37",
   "metadata": {},
   "outputs": [],
   "source": []
  }
 ],
 "metadata": {
  "kernelspec": {
   "display_name": "Python 3 (ipykernel)",
   "language": "python",
   "name": "python3"
  },
  "language_info": {
   "codemirror_mode": {
    "name": "ipython",
    "version": 3
   },
   "file_extension": ".py",
   "mimetype": "text/x-python",
   "name": "python",
   "nbconvert_exporter": "python",
   "pygments_lexer": "ipython3",
   "version": "3.13.5"
  }
 },
 "nbformat": 4,
 "nbformat_minor": 5
}
